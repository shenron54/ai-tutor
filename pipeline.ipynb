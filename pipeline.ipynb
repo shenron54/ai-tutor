{
 "cells": [
  {
   "cell_type": "markdown",
   "metadata": {},
   "source": [
    "Initializing the Azure OpenAI API "
   ]
  },
  {
   "cell_type": "code",
   "execution_count": 7,
   "metadata": {},
   "outputs": [
    {
     "name": "stdout",
     "output_type": "stream",
     "text": [
      "Hello! I'm doing well, thank you. How about you?\n"
     ]
    }
   ],
   "source": [
    "import os\n",
    "from openai import AzureOpenAI\n",
    "\n",
    "endpoint=\"https://researchassistantapi.openai.azure.com/openai/deployments/gpt-4o-mini/chat/completions?api-version=2024-08-01-preview\"\n",
    "key=\"cdf4a3b34e90441dbd6b41240b6d88b4\"\n",
    "model=\"gpt-4o-mini\"\n",
    "\n",
    "client = AzureOpenAI(\n",
    "    azure_endpoint=endpoint,\n",
    "    api_version=\"2024-02-01\",\n",
    "    api_key=key\n",
    ")\n",
    "\n",
    "completion = client.chat.completions.create(\n",
    "    model=model,\n",
    "    messages=[\n",
    "        {\n",
    "            \"role\": \"user\",\n",
    "            \"content\": \"Hello there, how are you?\",  # Your question can go here\n",
    "        },\n",
    "    ],\n",
    ")\n",
    "\n",
    "print(completion.choices[0].message.content)"
   ]
  },
  {
   "cell_type": "markdown",
   "metadata": {},
   "source": [
    "Exercise 2: NY Times offers an API to search for relevant news articles on specific topics. Now imagine yourself as a data specialist on the future outlook for cryptocurrencies and blockchain. You are asked to collect news covergae of `blockchain` (use this as the search key) in NY Times. Can you:\n",
    "- Collect 200 results (note: this is the maximum you can get) using [Article Search API](https://developer.nytimes.com/docs/articlesearch-product/1/overview).\n",
    "- Compile an Pandas series of words sorted by their occurence in the first 100 articles' abstracts and lead paragraphs.\n",
    "\n",
    "Note: check [this](https://developer.nytimes.com/faq#a11) out, which tells us about how many requests we can make:"
   ]
  }
 ],
 "metadata": {
  "kernelspec": {
   "display_name": "Python 3",
   "language": "python",
   "name": "python3"
  },
  "language_info": {
   "codemirror_mode": {
    "name": "ipython",
    "version": 3
   },
   "file_extension": ".py",
   "mimetype": "text/x-python",
   "name": "python",
   "nbconvert_exporter": "python",
   "pygments_lexer": "ipython3",
   "version": "3.11.10"
  }
 },
 "nbformat": 4,
 "nbformat_minor": 2
}
